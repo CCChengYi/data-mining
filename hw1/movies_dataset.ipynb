{
 "cells": [
  {
   "cell_type": "code",
   "execution_count": 5,
   "metadata": {},
   "outputs": [],
   "source": [
    "import pandas as pd\n",
    "import matplotlib.pyplot as plt\n",
    "import seaborn as sns\n",
    "from sklearn.linear_model import LinearRegression\n",
    "from sklearn.impute import KNNImputer"
   ]
  },
  {
   "cell_type": "code",
   "execution_count": 7,
   "metadata": {},
   "outputs": [
    {
     "name": "stdout",
     "output_type": "stream",
     "text": [
      "Index(['Unnamed: 0', 'IMDb-rating', 'appropriate_for', 'director', 'downloads',\n",
      "       'id', 'industry', 'language', 'posted_date', 'release_date', 'run_time',\n",
      "       'storyline', 'title', 'views', 'writer'],\n",
      "      dtype='object')\n",
      "************************\n",
      "<class 'pandas.core.frame.DataFrame'>\n",
      "RangeIndex: 20548 entries, 0 to 20547\n",
      "Data columns (total 15 columns):\n",
      " #   Column           Non-Null Count  Dtype  \n",
      "---  ------           --------------  -----  \n",
      " 0   Unnamed: 0       20548 non-null  int64  \n",
      " 1   IMDb-rating      19707 non-null  float64\n",
      " 2   appropriate_for  11072 non-null  object \n",
      " 3   director         18610 non-null  object \n",
      " 4   downloads        20547 non-null  object \n",
      " 5   id               20548 non-null  int64  \n",
      " 6   industry         20547 non-null  object \n",
      " 7   language         20006 non-null  object \n",
      " 8   posted_date      20547 non-null  object \n",
      " 9   release_date     20547 non-null  object \n",
      " 10  run_time         18780 non-null  object \n",
      " 11  storyline        18847 non-null  object \n",
      " 12  title            20547 non-null  object \n",
      " 13  views            20547 non-null  object \n",
      " 14  writer           18356 non-null  object \n",
      "dtypes: float64(1), int64(2), object(12)\n",
      "memory usage: 2.4+ MB\n",
      "************************\n",
      "Unnamed: 0            0\n",
      "IMDb-rating         841\n",
      "appropriate_for    9476\n",
      "director           1938\n",
      "downloads             1\n",
      "id                    0\n",
      "industry              1\n",
      "language            542\n",
      "posted_date           1\n",
      "release_date          1\n",
      "run_time           1768\n",
      "storyline          1701\n",
      "title                 1\n",
      "views                 1\n",
      "writer             2192\n",
      "dtype: int64\n"
     ]
    }
   ],
   "source": [
    "# 加载数据集\n",
    "datas = pd.read_csv(\"./Data/movies_dataset.csv\")\n",
    "\n",
    "# 查看列属性\n",
    "print(datas.columns)\n",
    "\n",
    "print(\"************************\")\n",
    "\n",
    "# 数据的总体状况（类型，缺失）\n",
    "datas.info()\n",
    "\n",
    "# 检查缺失值个数\n",
    "print(\"************************\")\n",
    "print(datas.isnull().sum())"
   ]
  },
  {
   "cell_type": "code",
   "execution_count": 14,
   "metadata": {},
   "outputs": [
    {
     "name": "stdout",
     "output_type": "stream",
     "text": [
      "appropriate_for属性的取值及出现次数：\n",
      "R                 4384\n",
      "Not Rated         2142\n",
      "PG-13             1968\n",
      "PG                 886\n",
      "TV-14              694\n",
      "TV-MA              406\n",
      "G                  152\n",
      "Unrated            132\n",
      "TV-PG              115\n",
      "TV-G                99\n",
      "TV-Y7               45\n",
      "TV-Y                25\n",
      "Approved             9\n",
      "NC-17                4\n",
      "TV-Y7-FV             3\n",
      "Passed               3\n",
      "MA-17                1\n",
      "TV-13                1\n",
      "Drama                1\n",
      "Drama, Romance       1\n",
      "18+                  1\n",
      "Name: appropriate_for, dtype: int64\n",
      "\n",
      "director属性的取值及出现次数：\n",
      "Venky Atluri                                  405\n",
      "Simone Stock                                  403\n",
      "Xavier Manrique                               403\n",
      "John Swab                                     205\n",
      "Neil Jordan                                   205\n",
      "                                             ... \n",
      "Agnieszka Smoczynska                            1\n",
      "Dylan Thomas Ellis                              1\n",
      "Sunil Thakur, Sunil Dhawan, Shivani Thakur      1\n",
      "Suman Mukhopadhyay                              1\n",
      "Shea Sizemore                                   1\n",
      "Name: director, Length: 9672, dtype: int64\n",
      "\n",
      "id属性的取值及出现次数：\n",
      "372090.0    402\n",
      "371744.0    402\n",
      "371877.0    402\n",
      "372092.0    202\n",
      "371991.0    202\n",
      "           ... \n",
      "303381.0      1\n",
      "303380.0      1\n",
      "303379.0      1\n",
      "303377.0      1\n",
      "30459.0       1\n",
      "Name: id, Length: 17086, dtype: int64\n",
      "\n",
      "industry属性的取值及出现次数：\n",
      "Hollywood / English    14649\n",
      "Bollywood / Indian      2645\n",
      "Tollywood               1172\n",
      "Anime / Kids            1049\n",
      "Wrestling                433\n",
      "Punjabi                  332\n",
      "Stage shows              129\n",
      "Pakistani                 92\n",
      "Dub / Dual Audio          45\n",
      "3D Movies                  1\n",
      "Name: industry, dtype: int64\n",
      "\n",
      "language属性的取值及出现次数：\n",
      "English                                 12657\n",
      "Hindi                                    2558\n",
      "English,Spanish                           391\n",
      "Punjabi                                   310\n",
      "English,Hindi                             304\n",
      "                                        ...  \n",
      "English,Korean,Spanish                      1\n",
      "Norwegian,Swedish                           1\n",
      "Spanish,Chinese,English,Maori,French        1\n",
      "Urdu,Punjabi,English                        1\n",
      "Spanish,German,English                      1\n",
      "Name: language, Length: 1168, dtype: int64\n",
      "\n",
      "posted_date属性的取值及出现次数：\n",
      "13 Feb, 2023    812\n",
      "20 Feb, 2023    607\n",
      "15 Feb, 2023    607\n",
      "10 Feb, 2023    485\n",
      "16 Feb, 2023    406\n",
      "               ... \n",
      "12 Sep, 2009      1\n",
      "08 Sep, 2009      1\n",
      "01 Sep, 2009      1\n",
      "18 Aug, 2009      1\n",
      "30 Nov, 2011      1\n",
      "Name: posted_date, Length: 4123, dtype: int64\n",
      "\n",
      "release_date属性的取值及出现次数：\n",
      "Jan 01 1970    962\n",
      "Feb 03 2023    616\n",
      "Feb 17 2023    607\n",
      "Feb 10 2023    410\n",
      "Feb 11 2023    402\n",
      "              ... \n",
      "Sep 05 2003      1\n",
      "Dec 29 2022      1\n",
      "Aug 24 2013      1\n",
      "Jan 12 2014      1\n",
      "Mar 28 1958      1\n",
      "Name: release_date, Length: 4886, dtype: int64\n",
      "\n",
      "run_time属性的取值及出现次数：\n",
      "93          652\n",
      "88          622\n",
      "101         568\n",
      "139         454\n",
      "95          454\n",
      "           ... \n",
      "74 min        1\n",
      "288           1\n",
      "220           1\n",
      "49min         1\n",
      "3h 13min      1\n",
      "Name: run_time, Length: 415, dtype: int64\n",
      "\n",
      "storyline属性的取值及出现次数：\n",
      "The life of a young man and his struggles against the privatization of education.                                                                                                                                                                                                                                                                                                                                                                                                    402\n",
      "Follows\\r\\n a New York City family hiding out in the Hamptons whose bubble is \\r\\npopped when a Bloody Mary-swilling, pot-smoking 'Charlie' comes to bring\\r\\n a lifetime of hurt that might heal them all.                                                                                                                                                                                                                                                                          402\n",
      "It follows Kara Robinson as she survives an abduction and ultimately brings down a serial killer.                                                                                                                                                                                                                                                                                                                                                                                    402\n",
      "Doc\\r\\n facilitates a fragile truce between the Governor and Cartel, trading \\r\\nprosecutorial leniency for finance. With no more truce, Doc is left to \\r\\nfend for himself and protect the one untainted thing in his life: his \\r\\ndaughter, Little Dixie.                                                                                                                                                                                                                        202\n",
      "A\\r\\n young, gay Black man, rejected by his mother and with few options for \\r\\nhis future, decides to join the Marines, doing whatever it takes to \\r\\nsucceed in a system that would cast him aside.                                                                                                                                                                                                                                                                               202\n",
      "                                                                                                                                                                                                                                                                                                                                                                                                                                                                                    ... \n",
      "Four waves of increasingly deadly attacks have left most of Earth in ruin. Against a backdrop of fear and distrust, Cassie is on the run, desperately trying to save her younger brother. As she prepares for the inevitable and lethal fifth wave, Cassie teams up with a young man who may become her final hope - if she can only trust him.                                                                                                                                        1\n",
      "Yamuna along with her son Laxman locates to Mumbai leaving behind her abusive husband.She takes shelter in the house of her aunt Chandra whom she calls Akka.Yamuna's only aim is to give a better education to her son.Chandra finds her a job as sweeper in a art school.Yamuna finds that Chandra poses as a nude model to the students of the school.Chandra confines Yamuna to take up the job being nude out there the students don't look at you in lust but as a project.      1\n",
      "A young violinist struggles to assert her individuality amidst the intense pressure of her pianist father, and the weight of her own musical ability.                                                                                                                                                                                                                                                                                                                                  1\n",
      "A right wing talk show host's life takes a sudden turn when his 16 year old niece comes crashing into his life.                                                                                                                                                                                                                                                                                                                                                                        1\n",
      "While driving his car on a rainy night, Anand's car breaks down, and he goes to seek shelter in a nearby house. He is let into the house by the servant, and he is permitted to stay until the rains stop be able to get his car fixed. It is here that he will find out about his previous birth, his true love, Madhumati, their ill-fated, star-crossed and tragic romance, and how events in his previous birth are going to effect him in this life-time.                         1\n",
      "Name: storyline, Length: 15748, dtype: int64\n",
      "\n",
      "title属性的取值及出现次数：\n",
      "The Girl Who Escaped: The Kara Robinson Story    402\n",
      "Vaathi                                           402\n",
      "Who Invited Charlie?                             402\n",
      "Little Dixie                                     202\n",
      "The Inspection                                   202\n",
      "                                                ... \n",
      "Kesari                                             1\n",
      "Old Boys                                           1\n",
      "American Exit                                      1\n",
      "Adventures of Aladdin                              1\n",
      "Madhumati                                          1\n",
      "Name: title, Length: 16572, dtype: int64\n",
      "\n",
      "writer属性的取值及出现次数：\n",
      "Nicholas Schutt                           403\n",
      "Venky Atluri                              402\n",
      "Haley Harris                              402\n",
      "John Swab                                 205\n",
      "Elegance Bratton                          202\n",
      "                                         ... \n",
      "Barbara Samuels, Joseph Boyden              1\n",
      "Maria Allred                                1\n",
      "Pia Mechler                                 1\n",
      "Paul Flannery, David Ryan Keith             1\n",
      "Khwaja Ahmad Abbas, Khwaja Ahmad Abbas      1\n",
      "Name: writer, Length: 13603, dtype: int64\n",
      "\n"
     ]
    },
    {
     "name": "stderr",
     "output_type": "stream",
     "text": [
      "D:\\Anaconda3\\envs\\data\\lib\\site-packages\\ipykernel_launcher.py:17: SettingWithCopyWarning: \n",
      "A value is trying to be set on a copy of a slice from a DataFrame\n",
      "\n",
      "See the caveats in the documentation: https://pandas.pydata.org/pandas-docs/stable/user_guide/indexing.html#returning-a-view-versus-a-copy\n",
      "  app.launch_new_instance()\n"
     ]
    }
   ],
   "source": [
    "# 获取标称属性列名\n",
    "nominal_columns = [ 'appropriate_for', 'director',  'id',\n",
    "                   'industry', 'language', 'posted_date',\n",
    "                   'release_date', 'run_time','storyline', 'title', 'writer']\n",
    "# 分析标称属性\n",
    "for col in nominal_columns:\n",
    "    print(f'{col}属性的取值及出现次数：\\n{datas[col].value_counts()}\\n')\n",
    "\n",
    "# 获取数值属性列名\n",
    "numerical_columns = ['IMDb-rating', 'downloads', 'views', ]\n",
    "numerical_datas = datas[numerical_columns]\n",
    "\n",
    "# 处理脏数据\n",
    "for e in range(1,3):\n",
    "    for i, s in zip(range(len(datas[numerical_columns[e]])), datas[numerical_columns[e]]):\n",
    "        if type(s) == str and s.__contains__(','):\n",
    "            datas[numerical_columns[e]][i] = s.replace(',', '')\n",
    "    datas[numerical_columns[e]] = datas[numerical_columns[e]].astype(float)\n",
    "\n",
    "numerical_datas = datas[numerical_columns]"
   ]
  },
  {
   "cell_type": "code",
   "execution_count": 15,
   "metadata": {},
   "outputs": [
    {
     "name": "stdout",
     "output_type": "stream",
     "text": [
      "五数概括：\n",
      "               min     25%      50%      75%        max\n",
      "IMDb-rating    1.1     4.8      5.7      6.6        9.9\n",
      "downloads      0.0   855.5   2716.0  10070.0   391272.0\n",
      "views        667.0  7571.5  15222.0  36571.0  1638533.0\n",
      "\n",
      "每个数值属性的缺失值个数：\n",
      "IMDb-rating    841\n",
      "downloads        1\n",
      "views            1\n",
      "dtype: int64\n"
     ]
    }
   ],
   "source": [
    "# 计算每个数值属性的五数概括\n",
    "# five_num_summary = numerical_datas.describe()\n",
    "five_num_summary = numerical_datas.describe().T[['min', '25%', '50%', '75%', 'max']]\n",
    "print(f'五数概括：\\n{five_num_summary}')\n",
    "\n",
    "# 计算每个数值属性的缺失值个数\n",
    "num_missing = numerical_datas.isnull().sum()\n",
    "print(f'\\n每个数值属性的缺失值个数：\\n{num_missing}')"
   ]
  },
  {
   "cell_type": "code",
   "execution_count": 16,
   "metadata": {},
   "outputs": [
    {
     "data": {
      "image/png": "[encoded data removed]",
      "text/plain": [
       "<Figure size 640x480 with 1 Axes>"
      ]
     },
     "metadata": {},
     "output_type": "display_data"
    },
    {
     "data": {
      "image/png": "[encoded data removed]",
      "text/plain": [
       "<Figure size 640x480 with 1 Axes>"
      ]
     },
     "metadata": {},
     "output_type": "display_data"
    },
    {
     "data": {
      "image/png": "[encoded data removed]",
      "text/plain": [
       "<Figure size 640x480 with 1 Axes>"
      ]
     },
     "metadata": {},
     "output_type": "display_data"
    }
   ],
   "source": [
    "# 绘制直方图\n",
    "for col in numerical_columns:\n",
    "    plt.hist(datas[col], bins=20)\n",
    "    plt.xlabel(col)\n",
    "    plt.ylabel('Frequency')\n",
    "    plt.show()"
   ]
  },
  {
   "cell_type": "code",
   "execution_count": 17,
   "metadata": {},
   "outputs": [
    {
     "data": {
      "image/png": "[encoded data removed]",
      "text/plain": [
       "<Figure size 640x480 with 1 Axes>"
      ]
     },
     "metadata": {},
     "output_type": "display_data"
    },
    {
     "data": {
      "image/png": "[encoded data removed]",
      "text/plain": [
       "<Figure size 640x480 with 1 Axes>"
      ]
     },
     "metadata": {},
     "output_type": "display_data"
    },
    {
     "data": {
      "image/png": "[encoded data removed]",
      "text/plain": [
       "<Figure size 640x480 with 1 Axes>"
      ]
     },
     "metadata": {},
     "output_type": "display_data"
    }
   ],
   "source": [
    "# 绘制盒图\n",
    "for col in numerical_columns:\n",
    "    sns.boxplot(x=datas[col])\n",
    "    plt.xlabel(col)\n",
    "    plt.show()"
   ]
  },
  {
   "cell_type": "code",
   "execution_count": 18,
   "metadata": {},
   "outputs": [
    {
     "name": "stdout",
     "output_type": "stream",
     "text": [
      "Unnamed: 0            0\n",
      "IMDb-rating         841\n",
      "appropriate_for    9476\n",
      "director           1938\n",
      "downloads             1\n",
      "id                    0\n",
      "industry              1\n",
      "language            542\n",
      "posted_date           1\n",
      "release_date          1\n",
      "run_time           1768\n",
      "storyline          1701\n",
      "title                 1\n",
      "views                 1\n",
      "writer             2192\n",
      "dtype: int64\n"
     ]
    }
   ],
   "source": [
    "# 数据缺失处理\n",
    "# 检查缺失值情况\n",
    "print(datas.isnull().sum())"
   ]
  },
  {
   "cell_type": "code",
   "execution_count": 19,
   "metadata": {},
   "outputs": [
    {
     "name": "stdout",
     "output_type": "stream",
     "text": [
      "处理前数据集形状： (20548, 15)\n",
      "处理后数据集形状： (9902, 15)\n"
     ]
    }
   ],
   "source": [
    "'''\n",
    "此处您可以选择用如下四种方法之一来处理确实数据:\n",
    "1.将缺失部分剔除\n",
    "2.用最高频率值来填补缺失值\n",
    "3.通过属性的相关关系来填补缺失值\n",
    "4.通过数据对象之间的相似性来填补缺失值\n",
    "'''\n",
    "\n",
    "ndatas = datas\n",
    "# 将缺失值剔除\n",
    "ndatas_dropna = ndatas.dropna()\n",
    "\n",
    "# 输出处理后的数据集信息\n",
    "print('处理前数据集形状：', ndatas.shape)\n",
    "print('处理后数据集形状：', ndatas_dropna.shape)\n",
    "    "
   ]
  },
  {
   "cell_type": "code",
   "execution_count": 20,
   "metadata": {},
   "outputs": [
    {
     "name": "stdout",
     "output_type": "stream",
     "text": [
      "Unnamed: 0         0\n",
      "IMDb-rating        0\n",
      "appropriate_for    0\n",
      "director           0\n",
      "downloads          0\n",
      "id                 0\n",
      "industry           0\n",
      "language           0\n",
      "posted_date        0\n",
      "release_date       0\n",
      "run_time           0\n",
      "storyline          0\n",
      "title              0\n",
      "views              0\n",
      "writer             0\n",
      "dtype: int64\n"
     ]
    }
   ],
   "source": [
    "\n",
    "# 用众数填补缺失值\n",
    "mdatas = datas\n",
    "mdatas.fillna(mdatas.mode().iloc[0], inplace=True)\n",
    "\n",
    "# 再次查看缺失值情况\n",
    "print(mdatas.isnull().sum())\n"
   ]
  },
  {
   "cell_type": "code",
   "execution_count": 33,
   "metadata": {},
   "outputs": [
    {
     "name": "stdout",
     "output_type": "stream",
     "text": [
      "             Unnamed: 0  IMDb-rating  downloads        id     views\n",
      "Unnamed: 0     1.000000     0.040640   0.158526 -0.829417  0.083820\n",
      "IMDb-rating    0.040640     1.000000   0.068016  0.051660  0.057160\n",
      "downloads      0.158526     0.068016   1.000000 -0.246679  0.947877\n",
      "id            -0.829417     0.051660  -0.246679  1.000000 -0.183481\n",
      "views          0.083820     0.057160   0.947877 -0.183481  1.000000\n",
      "Unnamed: 0         0\n",
      "IMDb-rating        0\n",
      "appropriate_for    0\n",
      "director           0\n",
      "downloads          0\n",
      "id                 0\n",
      "industry           0\n",
      "language           0\n",
      "posted_date        0\n",
      "release_date       0\n",
      "run_time           0\n",
      "storyline          0\n",
      "title              0\n",
      "views              0\n",
      "writer             0\n",
      "dtype: int64\n",
      "**************\n",
      "Empty DataFrame\n",
      "Columns: [views]\n",
      "Index: []\n",
      "**************\n",
      "(0, 1)\n"
     ]
    },
    {
     "ename": "ValueError",
     "evalue": "Found array with 0 sample(s) (shape=(0, 1)) while a minimum of 1 is required.",
     "output_type": "error",
     "traceback": [
      "\u001b[1;31m---------------------------------------------------------------------------\u001b[0m",
      "\u001b[1;31mValueError\u001b[0m                                Traceback (most recent call last)",
      "\u001b[1;32m~\\AppData\\Local\\Temp\\ipykernel_19536\\909802216.py\u001b[0m in \u001b[0;36m<module>\u001b[1;34m\u001b[0m\n\u001b[0;32m     30\u001b[0m \u001b[0mprint\u001b[0m\u001b[1;33m(\u001b[0m\u001b[1;34m\"**************\"\u001b[0m\u001b[1;33m)\u001b[0m\u001b[1;33m\u001b[0m\u001b[1;33m\u001b[0m\u001b[0m\n\u001b[0;32m     31\u001b[0m \u001b[0mprint\u001b[0m\u001b[1;33m(\u001b[0m\u001b[0mX_test\u001b[0m\u001b[1;33m.\u001b[0m\u001b[0mshape\u001b[0m\u001b[1;33m)\u001b[0m\u001b[1;33m\u001b[0m\u001b[1;33m\u001b[0m\u001b[0m\n\u001b[1;32m---> 32\u001b[1;33m \u001b[0my_pred\u001b[0m \u001b[1;33m=\u001b[0m \u001b[0mlr\u001b[0m\u001b[1;33m.\u001b[0m\u001b[0mpredict\u001b[0m\u001b[1;33m(\u001b[0m\u001b[0mX_test\u001b[0m\u001b[1;33m)\u001b[0m\u001b[1;33m\u001b[0m\u001b[1;33m\u001b[0m\u001b[0m\n\u001b[0m\u001b[0;32m     33\u001b[0m \u001b[1;33m\u001b[0m\u001b[0m\n\u001b[0;32m     34\u001b[0m \u001b[1;31m# 填充预测值\u001b[0m\u001b[1;33m\u001b[0m\u001b[1;33m\u001b[0m\u001b[1;33m\u001b[0m\u001b[0m\n",
      "\u001b[1;32mD:\\Anaconda3\\envs\\data\\lib\\site-packages\\sklearn\\linear_model\\_base.py\u001b[0m in \u001b[0;36mpredict\u001b[1;34m(self, X)\u001b[0m\n\u001b[0;32m    360\u001b[0m             \u001b[0mReturns\u001b[0m \u001b[0mpredicted\u001b[0m \u001b[0mvalues\u001b[0m\u001b[1;33m.\u001b[0m\u001b[1;33m\u001b[0m\u001b[1;33m\u001b[0m\u001b[0m\n\u001b[0;32m    361\u001b[0m         \"\"\"\n\u001b[1;32m--> 362\u001b[1;33m         \u001b[1;32mreturn\u001b[0m \u001b[0mself\u001b[0m\u001b[1;33m.\u001b[0m\u001b[0m_decision_function\u001b[0m\u001b[1;33m(\u001b[0m\u001b[0mX\u001b[0m\u001b[1;33m)\u001b[0m\u001b[1;33m\u001b[0m\u001b[1;33m\u001b[0m\u001b[0m\n\u001b[0m\u001b[0;32m    363\u001b[0m \u001b[1;33m\u001b[0m\u001b[0m\n\u001b[0;32m    364\u001b[0m     \u001b[0m_preprocess_data\u001b[0m \u001b[1;33m=\u001b[0m \u001b[0mstaticmethod\u001b[0m\u001b[1;33m(\u001b[0m\u001b[0m_preprocess_data\u001b[0m\u001b[1;33m)\u001b[0m\u001b[1;33m\u001b[0m\u001b[1;33m\u001b[0m\u001b[0m\n",
      "\u001b[1;32mD:\\Anaconda3\\envs\\data\\lib\\site-packages\\sklearn\\linear_model\\_base.py\u001b[0m in \u001b[0;36m_decision_function\u001b[1;34m(self, X)\u001b[0m\n\u001b[0;32m    343\u001b[0m         \u001b[0mcheck_is_fitted\u001b[0m\u001b[1;33m(\u001b[0m\u001b[0mself\u001b[0m\u001b[1;33m)\u001b[0m\u001b[1;33m\u001b[0m\u001b[1;33m\u001b[0m\u001b[0m\n\u001b[0;32m    344\u001b[0m \u001b[1;33m\u001b[0m\u001b[0m\n\u001b[1;32m--> 345\u001b[1;33m         \u001b[0mX\u001b[0m \u001b[1;33m=\u001b[0m \u001b[0mself\u001b[0m\u001b[1;33m.\u001b[0m\u001b[0m_validate_data\u001b[0m\u001b[1;33m(\u001b[0m\u001b[0mX\u001b[0m\u001b[1;33m,\u001b[0m \u001b[0maccept_sparse\u001b[0m\u001b[1;33m=\u001b[0m\u001b[1;33m[\u001b[0m\u001b[1;34m\"csr\"\u001b[0m\u001b[1;33m,\u001b[0m \u001b[1;34m\"csc\"\u001b[0m\u001b[1;33m,\u001b[0m \u001b[1;34m\"coo\"\u001b[0m\u001b[1;33m]\u001b[0m\u001b[1;33m,\u001b[0m \u001b[0mreset\u001b[0m\u001b[1;33m=\u001b[0m\u001b[1;32mFalse\u001b[0m\u001b[1;33m)\u001b[0m\u001b[1;33m\u001b[0m\u001b[1;33m\u001b[0m\u001b[0m\n\u001b[0m\u001b[0;32m    346\u001b[0m         \u001b[1;32mreturn\u001b[0m \u001b[0msafe_sparse_dot\u001b[0m\u001b[1;33m(\u001b[0m\u001b[0mX\u001b[0m\u001b[1;33m,\u001b[0m \u001b[0mself\u001b[0m\u001b[1;33m.\u001b[0m\u001b[0mcoef_\u001b[0m\u001b[1;33m.\u001b[0m\u001b[0mT\u001b[0m\u001b[1;33m,\u001b[0m \u001b[0mdense_output\u001b[0m\u001b[1;33m=\u001b[0m\u001b[1;32mTrue\u001b[0m\u001b[1;33m)\u001b[0m \u001b[1;33m+\u001b[0m \u001b[0mself\u001b[0m\u001b[1;33m.\u001b[0m\u001b[0mintercept_\u001b[0m\u001b[1;33m\u001b[0m\u001b[1;33m\u001b[0m\u001b[0m\n\u001b[0;32m    347\u001b[0m \u001b[1;33m\u001b[0m\u001b[0m\n",
      "\u001b[1;32mD:\\Anaconda3\\envs\\data\\lib\\site-packages\\sklearn\\base.py\u001b[0m in \u001b[0;36m_validate_data\u001b[1;34m(self, X, y, reset, validate_separately, **check_params)\u001b[0m\n\u001b[0;32m    564\u001b[0m             \u001b[1;32mraise\u001b[0m \u001b[0mValueError\u001b[0m\u001b[1;33m(\u001b[0m\u001b[1;34m\"Validation should be done on X, y or both.\"\u001b[0m\u001b[1;33m)\u001b[0m\u001b[1;33m\u001b[0m\u001b[1;33m\u001b[0m\u001b[0m\n\u001b[0;32m    565\u001b[0m         \u001b[1;32melif\u001b[0m \u001b[1;32mnot\u001b[0m \u001b[0mno_val_X\u001b[0m \u001b[1;32mand\u001b[0m \u001b[0mno_val_y\u001b[0m\u001b[1;33m:\u001b[0m\u001b[1;33m\u001b[0m\u001b[1;33m\u001b[0m\u001b[0m\n\u001b[1;32m--> 566\u001b[1;33m             \u001b[0mX\u001b[0m \u001b[1;33m=\u001b[0m \u001b[0mcheck_array\u001b[0m\u001b[1;33m(\u001b[0m\u001b[0mX\u001b[0m\u001b[1;33m,\u001b[0m \u001b[1;33m**\u001b[0m\u001b[0mcheck_params\u001b[0m\u001b[1;33m)\u001b[0m\u001b[1;33m\u001b[0m\u001b[1;33m\u001b[0m\u001b[0m\n\u001b[0m\u001b[0;32m    567\u001b[0m             \u001b[0mout\u001b[0m \u001b[1;33m=\u001b[0m \u001b[0mX\u001b[0m\u001b[1;33m\u001b[0m\u001b[1;33m\u001b[0m\u001b[0m\n\u001b[0;32m    568\u001b[0m         \u001b[1;32melif\u001b[0m \u001b[0mno_val_X\u001b[0m \u001b[1;32mand\u001b[0m \u001b[1;32mnot\u001b[0m \u001b[0mno_val_y\u001b[0m\u001b[1;33m:\u001b[0m\u001b[1;33m\u001b[0m\u001b[1;33m\u001b[0m\u001b[0m\n",
      "\u001b[1;32mD:\\Anaconda3\\envs\\data\\lib\\site-packages\\sklearn\\utils\\validation.py\u001b[0m in \u001b[0;36mcheck_array\u001b[1;34m(array, accept_sparse, accept_large_sparse, dtype, order, copy, force_all_finite, ensure_2d, allow_nd, ensure_min_samples, ensure_min_features, estimator)\u001b[0m\n\u001b[0;32m    806\u001b[0m                 \u001b[1;34m\"Found array with %d sample(s) (shape=%s) while a\"\u001b[0m\u001b[1;33m\u001b[0m\u001b[1;33m\u001b[0m\u001b[0m\n\u001b[0;32m    807\u001b[0m                 \u001b[1;34m\" minimum of %d is required%s.\"\u001b[0m\u001b[1;33m\u001b[0m\u001b[1;33m\u001b[0m\u001b[0m\n\u001b[1;32m--> 808\u001b[1;33m                 \u001b[1;33m%\u001b[0m \u001b[1;33m(\u001b[0m\u001b[0mn_samples\u001b[0m\u001b[1;33m,\u001b[0m \u001b[0marray\u001b[0m\u001b[1;33m.\u001b[0m\u001b[0mshape\u001b[0m\u001b[1;33m,\u001b[0m \u001b[0mensure_min_samples\u001b[0m\u001b[1;33m,\u001b[0m \u001b[0mcontext\u001b[0m\u001b[1;33m)\u001b[0m\u001b[1;33m\u001b[0m\u001b[1;33m\u001b[0m\u001b[0m\n\u001b[0m\u001b[0;32m    809\u001b[0m             )\n\u001b[0;32m    810\u001b[0m \u001b[1;33m\u001b[0m\u001b[0m\n",
      "\u001b[1;31mValueError\u001b[0m: Found array with 0 sample(s) (shape=(0, 1)) while a minimum of 1 is required."
     ]
    }
   ],
   "source": [
    "\n",
    "# 计算属性相关性\n",
    "corr_matrix = datas.corr()\n",
    "# 输出相关性矩阵\n",
    "print(corr_matrix)\n",
    "\n",
    "ndatas = datas\n",
    "\n",
    "# 先用众数补全'views'\n",
    "mode_Low_Confidence_Limit = ndatas['views'].mode()[0]\n",
    "ndatas['views'].fillna(mode_Low_Confidence_Limit, inplace=True)\n",
    "\n",
    "# 再次查看缺失值情况\n",
    "print(ndatas.isnull().sum())\n",
    "\n",
    "# 选取一些与目标特征有一定相关性的特征作为自变量\n",
    "corr_attributes = ['views']\n",
    "xdatas = ndatas\n",
    "\n",
    "# 构建预测模型\n",
    "lr = LinearRegression()\n",
    "train_data = xdatas[xdatas['downloads'].notnull()]\n",
    "test_data = xdatas[xdatas['downloads'].isnull()]\n",
    "X_train = train_data[corr_attributes]\n",
    "y_train = train_data['downloads']\n",
    "X_test = test_data[corr_attributes]\n",
    "print(\"**************\")\n",
    "print(X_test)\n",
    "\n",
    "lr.fit(X_train, y_train)\n",
    "print(\"**************\")\n",
    "print(X_test.shape)\n",
    "y_pred = lr.predict(X_test)\n",
    "\n",
    "# 填充预测值\n",
    "xdatas.loc[xdatas['downloads'].isnull(), 'downloads'] = y_pred\n",
    "# 再次查看缺失值情况\n",
    "print(xdatas.isnull().sum())\n"
   ]
  },
  {
   "cell_type": "code",
   "execution_count": 22,
   "metadata": {},
   "outputs": [
    {
     "name": "stdout",
     "output_type": "stream",
     "text": [
      "Unnamed: 0         0\n",
      "IMDb-rating        0\n",
      "appropriate_for    0\n",
      "director           0\n",
      "downloads          0\n",
      "id                 0\n",
      "industry           0\n",
      "language           0\n",
      "posted_date        0\n",
      "release_date       0\n",
      "run_time           0\n",
      "storyline          0\n",
      "title              0\n",
      "views              0\n",
      "writer             0\n",
      "dtype: int64\n"
     ]
    }
   ],
   "source": [
    "\n",
    "pdatas = datas\n",
    "# 对这些列进行KNN填充\n",
    "imputer = KNNImputer(n_neighbors=5)\n",
    "pdatas[numerical_columns] = imputer.fit_transform(pdatas[numerical_columns])\n",
    "\n",
    "# 再次查看缺失值情况\n",
    "print(pdatas.isnull().sum())"
   ]
  },
  {
   "cell_type": "code",
   "execution_count": null,
   "metadata": {},
   "outputs": [],
   "source": []
  }
 ],
 "metadata": {
  "kernelspec": {
   "display_name": "Python [conda env:data]",
   "language": "python",
   "name": "conda-env-data-py"
  },
  "language_info": {
   "codemirror_mode": {
    "name": "ipython",
    "version": 3
   },
   "file_extension": ".py",
   "mimetype": "text/x-python",
   "name": "python",
   "nbconvert_exporter": "python",
   "pygments_lexer": "ipython3",
   "version": "3.7.16"
  }
 },
 "nbformat": 4,
 "nbformat_minor": 2
}
