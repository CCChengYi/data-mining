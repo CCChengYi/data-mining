{
 "cells": [
  {
   "cell_type": "code",
   "execution_count": 34,
   "metadata": {},
   "outputs": [],
   "source": [
    "import pandas as pd\n",
    "import matplotlib.pyplot as plt\n",
    "import seaborn as sns\n",
    "import numpy as np\n",
    "\n",
    "from sklearn.linear_model import LinearRegression\n",
    "from sklearn.neighbors import KNeighborsClassifier\n",
    "from sklearn.preprocessing import LabelEncoder"
   ]
  },
  {
   "cell_type": "markdown",
   "metadata": {},
   "source": [
    "### 加载数据集，查看数据信息"
   ]
  },
  {
   "cell_type": "code",
   "execution_count": 15,
   "metadata": {},
   "outputs": [
    {
     "name": "stdout",
     "output_type": "stream",
     "text": [
      "Index(['repositories', 'stars_count', 'forks_count', 'issues_count',\n",
      "       'pull_requests', 'contributors', 'language'],\n",
      "      dtype='object')\n",
      "************************\n",
      "<class 'pandas.core.frame.DataFrame'>\n",
      "RangeIndex: 1052 entries, 0 to 1051\n",
      "Data columns (total 7 columns):\n",
      "repositories     1052 non-null object\n",
      "stars_count      1052 non-null int64\n",
      "forks_count      1052 non-null int64\n",
      "issues_count     1052 non-null int64\n",
      "pull_requests    1052 non-null int64\n",
      "contributors     1052 non-null int64\n",
      "language         907 non-null object\n",
      "dtypes: int64(5), object(2)\n",
      "memory usage: 57.6+ KB\n",
      "************************\n",
      "repositories       0\n",
      "stars_count        0\n",
      "forks_count        0\n",
      "issues_count       0\n",
      "pull_requests      0\n",
      "contributors       0\n",
      "language         145\n",
      "dtype: int64\n"
     ]
    }
   ],
   "source": [
    "# 加载训练数据集\n",
    "data = pd.read_csv(r\"./data/github_dataset.csv\")\n",
    "data.head()\n",
    "\n",
    "# 数据的属性\n",
    "print(data.columns)\n",
    "\n",
    "print(\"************************\")\n",
    "\n",
    "# 数据的总体状况（类型，缺失）\n",
    "data.info()\n",
    "\n",
    "# 检查缺失值个数\n",
    "print(\"************************\")\n",
    "print(data.isnull().sum())"
   ]
  },
  {
   "cell_type": "markdown",
   "metadata": {},
   "source": [
    "可以看出每项属性有1052个值，缺失的数据值的属性有一项，为language，缺失条数为 1052-907 = 145 条"
   ]
  },
  {
   "cell_type": "code",
   "execution_count": 5,
   "metadata": {},
   "outputs": [],
   "source": [
    "# 获取标称属性列名\n",
    "nominal_columns = ['repositories', 'language']"
   ]
  },
  {
   "cell_type": "code",
   "execution_count": 6,
   "metadata": {},
   "outputs": [
    {
     "name": "stdout",
     "output_type": "stream",
     "text": [
      "repositories属性的取值及出现次数：\n",
      "aloisdeniel/dio_retry                                        2\n",
      "carloscuesta/carloscuesta.me                                 2\n",
      "iamshaunjp/css-grid-layouts                                  2\n",
      "ritwickdey/live-server-web-extension                         2\n",
      "artkirienko/final-html-css                                   2\n",
      "aloisdeniel/built_vector                                     2\n",
      "lengstrom/blog                                               2\n",
      "iamshaunjp/django-playlist                                   2\n",
      "JDevlieghere/InTeXration                                     2\n",
      "iamshaunjp/flutter-animations                                2\n",
      "jgthms/css-reference                                         2\n",
      "KrauseFx/certs                                               2\n",
      "iamshaunjp/complete-mongodb                                  2\n",
      "justinshenk/fer                                              2\n",
      "artkirienko/int-null-even                                    2\n",
      "aloisdeniel/dart-opencage-geocoder                           2\n",
      "Anurag5086/Portfolio-website-themes                          2\n",
      "KrauseFx/engagement-enhancer                                 2\n",
      "jgthms/bulma-versions                                        2\n",
      "cyborgboy/intro-to-semgrep                                   2\n",
      "kameshsampath/ansible-role-kind                              2\n",
      "antoniaandreou/github-slideshow                              2\n",
      "jgthms/bulma                                                 2\n",
      "kameshsampath/ansible-collection-kubernetes-spices           2\n",
      "PragneshRamani/Coursera---Using-Python-to-Access-Web-Data    2\n",
      "iamshaunjp/data-ui-with-d3-firebase                          2\n",
      "vasu-1/pygithub-bot                                          2\n",
      "vasu-1/GithubBotApp                                          2\n",
      "lengstrom/codezoo                                            2\n",
      "ritwickdey/Cake-Shop                                         2\n",
      "                                                            ..\n",
      "sukritishah15/DS-Algo-Point                                  1\n",
      "garimasingh128/Draw                                          1\n",
      "lmgonzalves/elastic-range-input                              1\n",
      "AnmolTomer/ml_bootcamp_udemy                                 1\n",
      "google/across                                                1\n",
      "localstack/cockpit                                           1\n",
      "google/access-bridge-explorer                                1\n",
      "LiveOverflow/lo_nintendoswitch                               1\n",
      "ethereum/annotated-spec                                      1\n",
      "bradtraversy/bookmarker                                      1\n",
      "ethereum/async-service                                       1\n",
      "feross/chrome-net                                            1\n",
      "Shreeshrii/tessdata_shreetest                                1\n",
      "ArefMq/SPLCommunicationTester                                1\n",
      "ethereum/beacon-metrics                                      1\n",
      "smaranjitghose/auto_vaidya                                   1\n",
      "karar189/Music-App                                           1\n",
      "crnacura/AmbientCanvasBackgrounds                            1\n",
      "joelparkerhenderson/brewfile                                 1\n",
      "gunnarmorling/awesome-opensource-data-engineering            1\n",
      "ducc/DiscrimFarmer                                           1\n",
      "unnat404/eCommerce                                           1\n",
      "jishanshaikh4/CSE-317-Operating-Systems-Laboratory           1\n",
      "trailofbits/ctf                                              1\n",
      "taniarascia/new-moon-vscode                                  1\n",
      "jishanshaikh4/CSE-315-Compiler-Design-Laboratory             1\n",
      "google/abstracttext                                          1\n",
      "google/aarch64-paging                                        1\n",
      "byt3bl33d3r/arpspoof                                         1\n",
      "benawad/basic-react-form                                     1\n",
      "Name: repositories, Length: 972, dtype: int64\n",
      "\n",
      "language属性的取值及出现次数：\n",
      "JavaScript          253\n",
      "Python              155\n",
      "HTML                 72\n",
      "Java                 44\n",
      "CSS                  37\n",
      "TypeScript           37\n",
      "Dart                 36\n",
      "Jupyter Notebook     29\n",
      "C++                  29\n",
      "Ruby                 28\n",
      "C                    26\n",
      "Shell                25\n",
      "PHP                  16\n",
      "Go                   15\n",
      "Rust                 10\n",
      "Swift                10\n",
      "Objective-C           8\n",
      "C#                    8\n",
      "Kotlin                7\n",
      "Makefile              6\n",
      "Jinja                 5\n",
      "SCSS                  4\n",
      "Perl                  3\n",
      "Solidity              3\n",
      "Dockerfile            3\n",
      "AutoHotkey            3\n",
      "CoffeeScript          3\n",
      "Elixir                2\n",
      "Pawn                  2\n",
      "Assembly              2\n",
      "Hack                  2\n",
      "CodeQL                2\n",
      "Vue                   2\n",
      "PowerShell            2\n",
      "Vim Script            2\n",
      "PureBasic             1\n",
      "SourcePawn            1\n",
      "Less                  1\n",
      "CMake                 1\n",
      "QMake                 1\n",
      "Haskell               1\n",
      "Svelte                1\n",
      "Cuda                  1\n",
      "HCL                   1\n",
      "Roff                  1\n",
      "Smarty                1\n",
      "Gherkin               1\n",
      "QML                   1\n",
      "ActionScript          1\n",
      "R                     1\n",
      "Oz                    1\n",
      "Name: language, dtype: int64\n",
      "\n"
     ]
    }
   ],
   "source": [
    "# 分析标称属性\n",
    "for col in nominal_columns:\n",
    "    print(f'{col}属性的取值及出现次数：\\n{data[col].value_counts()}\\n')"
   ]
  },
  {
   "cell_type": "code",
   "execution_count": 7,
   "metadata": {},
   "outputs": [],
   "source": [
    "# 获取数值属性列名\n",
    "numerical_columns = ['stars_count', 'forks_count', 'issues_count', 'pull_requests','contributors']\n",
    "# numerical_columns = ['repositories', 'stars_count', 'forks_count', 'issues_count',\n",
    "#                   'pull_requests', 'contributors', 'language']"
   ]
  },
  {
   "cell_type": "code",
   "execution_count": 8,
   "metadata": {},
   "outputs": [
    {
     "name": "stdout",
     "output_type": "stream",
     "text": [
      "五数概括：\n",
      "               min  25%   50%    75%    max\n",
      "stars_count    0.0  1.0  12.0  65.25  995.0\n",
      "forks_count    0.0  1.0   6.0  38.25  973.0\n",
      "issues_count   1.0  1.0   2.0   6.00  612.0\n",
      "pull_requests  0.0  0.0   0.0   2.00  567.0\n",
      "contributors   0.0  0.0   2.0   4.00  658.0\n"
     ]
    }
   ],
   "source": [
    "# 计算每个数值属性的五数概括\n",
    "# five_num_summary = numerical_datas.describe()\n",
    "numerical_data = data[numerical_columns]\n",
    "five_num_summary = numerical_data.describe().T[['min', '25%', '50%', '75%', 'max']]\n",
    "print(f'五数概括：\\n{five_num_summary}')"
   ]
  },
  {
   "cell_type": "markdown",
   "metadata": {},
   "source": [
    "### 数据可视化"
   ]
  },
  {
   "cell_type": "code",
   "execution_count": 9,
   "metadata": {},
   "outputs": [
    {
     "data": {
      "image/png": "[encoded data removed]",
      "text/plain": [
       "<Figure size 432x288 with 1 Axes>"
      ]
     },
     "metadata": {
      "needs_background": "light"
     },
     "output_type": "display_data"
    },
    {
     "data": {
      "image/png": "[encoded data removed]",
      "text/plain": [
       "<Figure size 432x288 with 1 Axes>"
      ]
     },
     "metadata": {
      "needs_background": "light"
     },
     "output_type": "display_data"
    },
    {
     "data": {
      "image/png": "[encoded data removed]",
      "text/plain": [
       "<Figure size 432x288 with 1 Axes>"
      ]
     },
     "metadata": {
      "needs_background": "light"
     },
     "output_type": "display_data"
    },
    {
     "data": {
      "image/png": "[encoded data removed]",
      "text/plain": [
       "<Figure size 432x288 with 1 Axes>"
      ]
     },
     "metadata": {
      "needs_background": "light"
     },
     "output_type": "display_data"
    },
    {
     "data": {
      "image/png": "[encoded data removed]",
      "text/plain": [
       "<Figure size 432x288 with 1 Axes>"
      ]
     },
     "metadata": {
      "needs_background": "light"
     },
     "output_type": "display_data"
    }
   ],
   "source": [
    "# 绘制直方图\n",
    "for col in numerical_columns:\n",
    "    plt.hist(data[col], bins=20)\n",
    "    plt.xlabel(col)\n",
    "    plt.ylabel('Frequency')\n",
    "    plt.show()\n",
    "\n"
   ]
  },
  {
   "cell_type": "code",
   "execution_count": 10,
   "metadata": {},
   "outputs": [
    {
     "data": {
      "image/png": "[encoded data removed]",
      "text/plain": [
       "<Figure size 432x288 with 1 Axes>"
      ]
     },
     "metadata": {
      "needs_background": "light"
     },
     "output_type": "display_data"
    },
    {
     "data": {
      "image/png": "[encoded data removed]",
      "text/plain": [
       "<Figure size 432x288 with 1 Axes>"
      ]
     },
     "metadata": {
      "needs_background": "light"
     },
     "output_type": "display_data"
    },
    {
     "data": {
      "image/png": "[encoded data removed]",
      "text/plain": [
       "<Figure size 432x288 with 1 Axes>"
      ]
     },
     "metadata": {
      "needs_background": "light"
     },
     "output_type": "display_data"
    },
    {
     "data": {
      "image/png": "[encoded data removed]",
      "text/plain": [
       "<Figure size 432x288 with 1 Axes>"
      ]
     },
     "metadata": {
      "needs_background": "light"
     },
     "output_type": "display_data"
    },
    {
     "data": {
      "image/png": "[encoded data removed]",
      "text/plain": [
       "<Figure size 432x288 with 1 Axes>"
      ]
     },
     "metadata": {
      "needs_background": "light"
     },
     "output_type": "display_data"
    }
   ],
   "source": [
    "# 绘制盒图\n",
    "for col in numerical_columns:\n",
    "    sns.boxplot(x=data[col])\n",
    "    plt.xlabel(col)\n",
    "    plt.show()"
   ]
  },
  {
   "cell_type": "markdown",
   "metadata": {},
   "source": [
    "### 缺失值处理"
   ]
  },
  {
   "cell_type": "code",
   "execution_count": 11,
   "metadata": {},
   "outputs": [
    {
     "name": "stdout",
     "output_type": "stream",
     "text": [
      "处理前数据集形状： (1052, 7)\n",
      "处理后数据集形状： (907, 7)\n"
     ]
    }
   ],
   "source": [
    "\n",
    "# 缺失部分剔除\n",
    "data.dropna()\n",
    "\n",
    "# 输出处理后的数据集信息\n",
    "print('处理前数据集形状：', data.shape)\n",
    "print('处理后数据集形状：', data.dropna().shape)"
   ]
  },
  {
   "cell_type": "code",
   "execution_count": 12,
   "metadata": {},
   "outputs": [
    {
     "name": "stdout",
     "output_type": "stream",
     "text": [
      "(1052, 7)\n",
      "repositories     0\n",
      "stars_count      0\n",
      "forks_count      0\n",
      "issues_count     0\n",
      "pull_requests    0\n",
      "contributors     0\n",
      "language         0\n",
      "dtype: int64\n"
     ]
    }
   ],
   "source": [
    "# 用最高频率值来填补缺失值\n",
    "\n",
    "data.fillna(data.mode().iloc[0], inplace=True)\n",
    "\n",
    "# 再次查看缺失值情况\n",
    "print(data.shape)\n",
    "print(data.isnull().sum())\n"
   ]
  },
  {
   "cell_type": "code",
   "execution_count": 32,
   "metadata": {},
   "outputs": [
    {
     "name": "stdout",
     "output_type": "stream",
     "text": [
      "               stars_count  forks_count  issues_count  pull_requests  \\\n",
      "stars_count       1.000000     0.250037      0.060943      -0.004548   \n",
      "forks_count       0.250037     1.000000      0.123204       0.048063   \n",
      "issues_count      0.060943     0.123204      1.000000       0.324541   \n",
      "pull_requests    -0.004548     0.048063      0.324541       1.000000   \n",
      "contributors      0.059866     0.263042      0.382578       0.183981   \n",
      "\n",
      "               contributors  \n",
      "stars_count        0.059866  \n",
      "forks_count        0.263042  \n",
      "issues_count       0.382578  \n",
      "pull_requests      0.183981  \n",
      "contributors       1.000000  \n"
     ]
    }
   ],
   "source": [
    "# 通过属性的相关关系来填补缺失值\n",
    "\n",
    "# 计算属性相关性\n",
    "corr_matrix = data.corr()\n",
    "# 输出相关性矩阵\n",
    "print(corr_matrix)\n",
    "\n",
    "data.corr()\n",
    "\n",
    "##通过属性的相关关系来填补缺失值\n",
    "target_data = data['language']\n",
    "source_data = data['contributors']\n",
    "flag1 = target_data.isnull().values\n",
    "flag2 = source_data.isnull().values\n",
    "complete_data = target_data.copy()\n",
    "i=0\n",
    "for _, value in target_data.iteritems():    \n",
    "    if (flag1[i] == True)and(flag2[i] == False):\n",
    "        complete_data[i] = 104 - source_data[i]\n",
    "    i=i+1\n",
    "values_clean = list(complete_data.dropna().values)\n"
   ]
  },
  {
   "cell_type": "code",
   "execution_count": 37,
   "metadata": {},
   "outputs": [
    {
     "data": {
      "text/html": [
       "<div>\n",
       "<style scoped>\n",
       "    .dataframe tbody tr th:only-of-type {\n",
       "        vertical-align: middle;\n",
       "    }\n",
       "\n",
       "    .dataframe tbody tr th {\n",
       "        vertical-align: top;\n",
       "    }\n",
       "\n",
       "    .dataframe thead th {\n",
       "        text-align: right;\n",
       "    }\n",
       "</style>\n",
       "<table border=\"1\" class=\"dataframe\">\n",
       "  <thead>\n",
       "    <tr style=\"text-align: right;\">\n",
       "      <th></th>\n",
       "      <th>language</th>\n",
       "    </tr>\n",
       "  </thead>\n",
       "  <tbody>\n",
       "    <tr>\n",
       "      <th>Total</th>\n",
       "      <td>0</td>\n",
       "    </tr>\n",
       "    <tr>\n",
       "      <th>Percent</th>\n",
       "      <td>0</td>\n",
       "    </tr>\n",
       "    <tr>\n",
       "      <th>Types</th>\n",
       "      <td>object</td>\n",
       "    </tr>\n",
       "  </tbody>\n",
       "</table>\n",
       "</div>"
      ],
      "text/plain": [
       "        language\n",
       "Total          0\n",
       "Percent        0\n",
       "Types     object"
      ]
     },
     "execution_count": 37,
     "metadata": {},
     "output_type": "execute_result"
    }
   ],
   "source": [
    "def missing_data(data):\n",
    "    total = data.isnull().sum()\n",
    "    percent = (data.isnull().sum()/data.isnull().count()*100)\n",
    "    tt = pd.concat([total, percent], axis=1, keys=['Total', 'Percent'])\n",
    "    types = []\n",
    "    for col in data.columns:\n",
    "        dtype = str(data[col].dtype)\n",
    "        types.append(dtype)\n",
    "    tt['Types'] = types\n",
    "    return(np.transpose(tt))\n",
    "\n",
    "missing_data(pd.DataFrame(values_clean,columns=['language']))  #验证通过相关关系填补后数据是否有缺失值"
   ]
  },
  {
   "cell_type": "code",
   "execution_count": 51,
   "metadata": {},
   "outputs": [
    {
     "data": {
      "text/plain": [
       "count           1052\n",
       "unique            73\n",
       "top       JavaScript\n",
       "freq             253\n",
       "Name: language, dtype: object"
      ]
     },
     "execution_count": 51,
     "metadata": {},
     "output_type": "execute_result"
    }
   ],
   "source": [
    "complete_data.describe()  #填补后数据的5数概况"
   ]
  },
  {
   "cell_type": "markdown",
   "metadata": {},
   "source": [
    "从上表中可以看出，处理过后的数据没有缺失值"
   ]
  },
  {
   "cell_type": "code",
   "execution_count": 55,
   "metadata": {},
   "outputs": [],
   "source": [
    "# 通过数据对象之间的相似性来填补缺失值\n",
    "\n",
    "numeric_attr = ['language','repositories']\n",
    "\n",
    "#查找两个对象间的相似性\n",
    "def find_dis_value(dataset, pos, column, numeric_attr):\n",
    "    def dis_objs(tar_obj, sou_obj):\n",
    "        dis_value = 0\n",
    "        count = 0\n",
    "        for column in tar_obj.index:\n",
    "            if tar_obj[column] != np.NaN and sou_obj[column] != np.NaN:\n",
    "                if column in numeric_attr:\n",
    "                        values_sort = dataset[column].dropna().values.sort()\n",
    "                        denominator = values_sort[-1] - values_sort[0]\n",
    "                        dis_value += abs(tar_obj[column] - sou_obj[column])/denominator\n",
    "                        count += 1\n",
    "\n",
    "                elif tar_obj[column] == sou_obj[column]:\n",
    "                    dis_value += 1\n",
    "                count += 1\n",
    "            else:\n",
    "                continue\n",
    "        return dis_value/count\n",
    "\n",
    "    mindis = 9999\n",
    "    result_pos = -1\n",
    "    target_obj = dataset.ix[pos]\n",
    "    for index in dataset.index:\n",
    "        if index == pos:\n",
    "            continue\n",
    "        source_obj = dataset.ix(index)\n",
    "        tmp = dis_objs(target_obj, source_obj)\n",
    "        if tmp < mindis:\n",
    "            result_pos = index\n",
    "    return result_pos\n",
    "\n",
    "# 通过数据对象之间的相似性来填补缺失值\n",
    "datas = data['language'].copy()\n",
    "for index, value in datas.iteritems():\n",
    "    if value == np.NaN:\n",
    "        datas[index] = datas[find_dis_value(data_df, index, 'language', numeric_attr)]"
   ]
  },
  {
   "cell_type": "code",
   "execution_count": 56,
   "metadata": {},
   "outputs": [
    {
     "data": {
      "text/plain": [
       "count            907\n",
       "unique            51\n",
       "top       JavaScript\n",
       "freq             253\n",
       "Name: language, dtype: object"
      ]
     },
     "execution_count": 56,
     "metadata": {},
     "output_type": "execute_result"
    }
   ],
   "source": [
    "datas.describe()  # 填补后数据的5数概况"
   ]
  },
  {
   "cell_type": "code",
   "execution_count": null,
   "metadata": {},
   "outputs": [],
   "source": []
  }
 ],
 "metadata": {
  "kernelspec": {
   "display_name": "Python 3",
   "language": "python",
   "name": "python3"
  },
  "language_info": {
   "codemirror_mode": {
    "name": "ipython",
    "version": 3
   },
   "file_extension": ".py",
   "mimetype": "text/x-python",
   "name": "python",
   "nbconvert_exporter": "python",
   "pygments_lexer": "ipython3",
   "version": "3.7.3"
  }
 },
 "nbformat": 4,
 "nbformat_minor": 2
}
